{
  "nbformat": 4,
  "nbformat_minor": 0,
  "metadata": {
    "colab": {
      "provenance": [],
      "collapsed_sections": []
    },
    "kernelspec": {
      "name": "python3",
      "display_name": "Python 3"
    },
    "language_info": {
      "name": "python"
    }
  },
  "cells": [
    {
      "cell_type": "code",
      "execution_count": 569,
      "metadata": {
        "id": "1NVgQwVtZGP4"
      },
      "outputs": [],
      "source": [
        "import pandas as pd\n",
        "import numpy as np\n",
        "import matplotlib as mt\n",
        "import sklearn as sk\n",
        "import seaborn as sb"
      ]
    },
    {
      "cell_type": "code",
      "source": [
        "Data=pd.read_csv('car_data.csv', sep=',' )"
      ],
      "metadata": {
        "id": "qyGHWFRdZVxC"
      },
      "execution_count": 570,
      "outputs": []
    },
    {
      "cell_type": "markdown",
      "source": [
        "### Eliminando duplicados y confirmando la posible existencia de valores NA"
      ],
      "metadata": {
        "id": "3A-cuHpbzvoD"
      }
    },
    {
      "cell_type": "code",
      "source": [
        "Data.head()\n",
        "Data.isna().sum()\n",
        "Data.duplicated().sum()"
      ],
      "metadata": {
        "colab": {
          "base_uri": "https://localhost:8080/"
        },
        "id": "2JCoFw-ZapXB",
        "outputId": "2f53a118-aeab-4cdd-e51b-9719b670f5cf"
      },
      "execution_count": 571,
      "outputs": [
        {
          "output_type": "execute_result",
          "data": {
            "text/plain": [
              "2"
            ]
          },
          "metadata": {},
          "execution_count": 571
        }
      ]
    },
    {
      "cell_type": "code",
      "source": [
        "Data=Data.drop_duplicates()"
      ],
      "metadata": {
        "id": "MY8Mtp5YbYKZ"
      },
      "execution_count": 572,
      "outputs": []
    },
    {
      "cell_type": "markdown",
      "source": [
        "### Estadistica descriptiva. Se aprecia gran presencia de outlier en las variables Selling_Price, Present_Price y Driven_Kms, debido a la grqn distancia entre los valores maximos con respecto al cuartil 3."
      ],
      "metadata": {
        "id": "0f22iXhHz2jg"
      }
    },
    {
      "cell_type": "code",
      "source": [
        "Data.describe()"
      ],
      "metadata": {
        "colab": {
          "base_uri": "https://localhost:8080/",
          "height": 300
        },
        "id": "x1OqPKJ1bfWK",
        "outputId": "4221f33f-a889-4e66-aa28-c421f8294cf2"
      },
      "execution_count": 573,
      "outputs": [
        {
          "output_type": "execute_result",
          "data": {
            "text/plain": [
              "              Year  Selling_Price  Present_Price     Driven_kms       Owner\n",
              "count   299.000000     299.000000     299.000000     299.000000  299.000000\n",
              "mean   2013.615385       4.589632       7.541037   36916.752508    0.043478\n",
              "std       2.896868       4.984240       8.566332   39015.170352    0.248720\n",
              "min    2003.000000       0.100000       0.320000     500.000000    0.000000\n",
              "25%    2012.000000       0.850000       1.200000   15000.000000    0.000000\n",
              "50%    2014.000000       3.510000       6.100000   32000.000000    0.000000\n",
              "75%    2016.000000       6.000000       9.840000   48883.500000    0.000000\n",
              "max    2018.000000      35.000000      92.600000  500000.000000    3.000000"
            ],
            "text/html": [
              "\n",
              "  <div id=\"df-8421b79a-f4fc-46d8-beb9-ae6e59444361\">\n",
              "    <div class=\"colab-df-container\">\n",
              "      <div>\n",
              "<style scoped>\n",
              "    .dataframe tbody tr th:only-of-type {\n",
              "        vertical-align: middle;\n",
              "    }\n",
              "\n",
              "    .dataframe tbody tr th {\n",
              "        vertical-align: top;\n",
              "    }\n",
              "\n",
              "    .dataframe thead th {\n",
              "        text-align: right;\n",
              "    }\n",
              "</style>\n",
              "<table border=\"1\" class=\"dataframe\">\n",
              "  <thead>\n",
              "    <tr style=\"text-align: right;\">\n",
              "      <th></th>\n",
              "      <th>Year</th>\n",
              "      <th>Selling_Price</th>\n",
              "      <th>Present_Price</th>\n",
              "      <th>Driven_kms</th>\n",
              "      <th>Owner</th>\n",
              "    </tr>\n",
              "  </thead>\n",
              "  <tbody>\n",
              "    <tr>\n",
              "      <th>count</th>\n",
              "      <td>299.000000</td>\n",
              "      <td>299.000000</td>\n",
              "      <td>299.000000</td>\n",
              "      <td>299.000000</td>\n",
              "      <td>299.000000</td>\n",
              "    </tr>\n",
              "    <tr>\n",
              "      <th>mean</th>\n",
              "      <td>2013.615385</td>\n",
              "      <td>4.589632</td>\n",
              "      <td>7.541037</td>\n",
              "      <td>36916.752508</td>\n",
              "      <td>0.043478</td>\n",
              "    </tr>\n",
              "    <tr>\n",
              "      <th>std</th>\n",
              "      <td>2.896868</td>\n",
              "      <td>4.984240</td>\n",
              "      <td>8.566332</td>\n",
              "      <td>39015.170352</td>\n",
              "      <td>0.248720</td>\n",
              "    </tr>\n",
              "    <tr>\n",
              "      <th>min</th>\n",
              "      <td>2003.000000</td>\n",
              "      <td>0.100000</td>\n",
              "      <td>0.320000</td>\n",
              "      <td>500.000000</td>\n",
              "      <td>0.000000</td>\n",
              "    </tr>\n",
              "    <tr>\n",
              "      <th>25%</th>\n",
              "      <td>2012.000000</td>\n",
              "      <td>0.850000</td>\n",
              "      <td>1.200000</td>\n",
              "      <td>15000.000000</td>\n",
              "      <td>0.000000</td>\n",
              "    </tr>\n",
              "    <tr>\n",
              "      <th>50%</th>\n",
              "      <td>2014.000000</td>\n",
              "      <td>3.510000</td>\n",
              "      <td>6.100000</td>\n",
              "      <td>32000.000000</td>\n",
              "      <td>0.000000</td>\n",
              "    </tr>\n",
              "    <tr>\n",
              "      <th>75%</th>\n",
              "      <td>2016.000000</td>\n",
              "      <td>6.000000</td>\n",
              "      <td>9.840000</td>\n",
              "      <td>48883.500000</td>\n",
              "      <td>0.000000</td>\n",
              "    </tr>\n",
              "    <tr>\n",
              "      <th>max</th>\n",
              "      <td>2018.000000</td>\n",
              "      <td>35.000000</td>\n",
              "      <td>92.600000</td>\n",
              "      <td>500000.000000</td>\n",
              "      <td>3.000000</td>\n",
              "    </tr>\n",
              "  </tbody>\n",
              "</table>\n",
              "</div>\n",
              "      <button class=\"colab-df-convert\" onclick=\"convertToInteractive('df-8421b79a-f4fc-46d8-beb9-ae6e59444361')\"\n",
              "              title=\"Convert this dataframe to an interactive table.\"\n",
              "              style=\"display:none;\">\n",
              "        \n",
              "  <svg xmlns=\"http://www.w3.org/2000/svg\" height=\"24px\"viewBox=\"0 0 24 24\"\n",
              "       width=\"24px\">\n",
              "    <path d=\"M0 0h24v24H0V0z\" fill=\"none\"/>\n",
              "    <path d=\"M18.56 5.44l.94 2.06.94-2.06 2.06-.94-2.06-.94-.94-2.06-.94 2.06-2.06.94zm-11 1L8.5 8.5l.94-2.06 2.06-.94-2.06-.94L8.5 2.5l-.94 2.06-2.06.94zm10 10l.94 2.06.94-2.06 2.06-.94-2.06-.94-.94-2.06-.94 2.06-2.06.94z\"/><path d=\"M17.41 7.96l-1.37-1.37c-.4-.4-.92-.59-1.43-.59-.52 0-1.04.2-1.43.59L10.3 9.45l-7.72 7.72c-.78.78-.78 2.05 0 2.83L4 21.41c.39.39.9.59 1.41.59.51 0 1.02-.2 1.41-.59l7.78-7.78 2.81-2.81c.8-.78.8-2.07 0-2.86zM5.41 20L4 18.59l7.72-7.72 1.47 1.35L5.41 20z\"/>\n",
              "  </svg>\n",
              "      </button>\n",
              "      \n",
              "  <style>\n",
              "    .colab-df-container {\n",
              "      display:flex;\n",
              "      flex-wrap:wrap;\n",
              "      gap: 12px;\n",
              "    }\n",
              "\n",
              "    .colab-df-convert {\n",
              "      background-color: #E8F0FE;\n",
              "      border: none;\n",
              "      border-radius: 50%;\n",
              "      cursor: pointer;\n",
              "      display: none;\n",
              "      fill: #1967D2;\n",
              "      height: 32px;\n",
              "      padding: 0 0 0 0;\n",
              "      width: 32px;\n",
              "    }\n",
              "\n",
              "    .colab-df-convert:hover {\n",
              "      background-color: #E2EBFA;\n",
              "      box-shadow: 0px 1px 2px rgba(60, 64, 67, 0.3), 0px 1px 3px 1px rgba(60, 64, 67, 0.15);\n",
              "      fill: #174EA6;\n",
              "    }\n",
              "\n",
              "    [theme=dark] .colab-df-convert {\n",
              "      background-color: #3B4455;\n",
              "      fill: #D2E3FC;\n",
              "    }\n",
              "\n",
              "    [theme=dark] .colab-df-convert:hover {\n",
              "      background-color: #434B5C;\n",
              "      box-shadow: 0px 1px 3px 1px rgba(0, 0, 0, 0.15);\n",
              "      filter: drop-shadow(0px 1px 2px rgba(0, 0, 0, 0.3));\n",
              "      fill: #FFFFFF;\n",
              "    }\n",
              "  </style>\n",
              "\n",
              "      <script>\n",
              "        const buttonEl =\n",
              "          document.querySelector('#df-8421b79a-f4fc-46d8-beb9-ae6e59444361 button.colab-df-convert');\n",
              "        buttonEl.style.display =\n",
              "          google.colab.kernel.accessAllowed ? 'block' : 'none';\n",
              "\n",
              "        async function convertToInteractive(key) {\n",
              "          const element = document.querySelector('#df-8421b79a-f4fc-46d8-beb9-ae6e59444361');\n",
              "          const dataTable =\n",
              "            await google.colab.kernel.invokeFunction('convertToInteractive',\n",
              "                                                     [key], {});\n",
              "          if (!dataTable) return;\n",
              "\n",
              "          const docLinkHtml = 'Like what you see? Visit the ' +\n",
              "            '<a target=\"_blank\" href=https://colab.research.google.com/notebooks/data_table.ipynb>data table notebook</a>'\n",
              "            + ' to learn more about interactive tables.';\n",
              "          element.innerHTML = '';\n",
              "          dataTable['output_type'] = 'display_data';\n",
              "          await google.colab.output.renderOutput(dataTable, element);\n",
              "          const docLink = document.createElement('div');\n",
              "          docLink.innerHTML = docLinkHtml;\n",
              "          element.appendChild(docLink);\n",
              "        }\n",
              "      </script>\n",
              "    </div>\n",
              "  </div>\n",
              "  "
            ]
          },
          "metadata": {},
          "execution_count": 573
        }
      ]
    },
    {
      "cell_type": "code",
      "source": [
        "Data.info()"
      ],
      "metadata": {
        "colab": {
          "base_uri": "https://localhost:8080/"
        },
        "id": "714NH4yablkR",
        "outputId": "d9bc5c18-9515-491b-d890-94b0d94983b9"
      },
      "execution_count": 574,
      "outputs": [
        {
          "output_type": "stream",
          "name": "stdout",
          "text": [
            "<class 'pandas.core.frame.DataFrame'>\n",
            "Int64Index: 299 entries, 0 to 300\n",
            "Data columns (total 9 columns):\n",
            " #   Column         Non-Null Count  Dtype  \n",
            "---  ------         --------------  -----  \n",
            " 0   Car_Name       299 non-null    object \n",
            " 1   Year           299 non-null    int64  \n",
            " 2   Selling_Price  299 non-null    float64\n",
            " 3   Present_Price  299 non-null    float64\n",
            " 4   Driven_kms     299 non-null    int64  \n",
            " 5   Fuel_Type      299 non-null    object \n",
            " 6   Selling_type   299 non-null    object \n",
            " 7   Transmission   299 non-null    object \n",
            " 8   Owner          299 non-null    int64  \n",
            "dtypes: float64(2), int64(3), object(4)\n",
            "memory usage: 23.4+ KB\n"
          ]
        }
      ]
    },
    {
      "cell_type": "code",
      "source": [
        "Data.head()"
      ],
      "metadata": {
        "colab": {
          "base_uri": "https://localhost:8080/",
          "height": 206
        },
        "id": "ecyIsg4JfQxS",
        "outputId": "53aaf3b3-7298-4215-c8fb-3ee981142754"
      },
      "execution_count": 577,
      "outputs": [
        {
          "output_type": "execute_result",
          "data": {
            "text/plain": [
              "  Car_Name                          Year  Selling_Price  Present_Price  \\\n",
              "0     ritz 1970-01-01 00:00:00.000002014           3.35           5.59   \n",
              "1      sx4 1970-01-01 00:00:00.000002013           4.75           9.54   \n",
              "2     ciaz 1970-01-01 00:00:00.000002017           7.25           9.85   \n",
              "3  wagon r 1970-01-01 00:00:00.000002011           2.85           4.15   \n",
              "4    swift 1970-01-01 00:00:00.000002014           4.60           6.87   \n",
              "\n",
              "   Driven_kms Fuel_Type Selling_type Transmission  Owner  \n",
              "0       27000    Petrol       Dealer       Manual      0  \n",
              "1       43000    Diesel       Dealer       Manual      0  \n",
              "2        6900    Petrol       Dealer       Manual      0  \n",
              "3        5200    Petrol       Dealer       Manual      0  \n",
              "4       42450    Diesel       Dealer       Manual      0  "
            ],
            "text/html": [
              "\n",
              "  <div id=\"df-e4079298-2844-4b71-8735-ff9d2e91c6e0\">\n",
              "    <div class=\"colab-df-container\">\n",
              "      <div>\n",
              "<style scoped>\n",
              "    .dataframe tbody tr th:only-of-type {\n",
              "        vertical-align: middle;\n",
              "    }\n",
              "\n",
              "    .dataframe tbody tr th {\n",
              "        vertical-align: top;\n",
              "    }\n",
              "\n",
              "    .dataframe thead th {\n",
              "        text-align: right;\n",
              "    }\n",
              "</style>\n",
              "<table border=\"1\" class=\"dataframe\">\n",
              "  <thead>\n",
              "    <tr style=\"text-align: right;\">\n",
              "      <th></th>\n",
              "      <th>Car_Name</th>\n",
              "      <th>Year</th>\n",
              "      <th>Selling_Price</th>\n",
              "      <th>Present_Price</th>\n",
              "      <th>Driven_kms</th>\n",
              "      <th>Fuel_Type</th>\n",
              "      <th>Selling_type</th>\n",
              "      <th>Transmission</th>\n",
              "      <th>Owner</th>\n",
              "    </tr>\n",
              "  </thead>\n",
              "  <tbody>\n",
              "    <tr>\n",
              "      <th>0</th>\n",
              "      <td>ritz</td>\n",
              "      <td>1970-01-01 00:00:00.000002014</td>\n",
              "      <td>3.35</td>\n",
              "      <td>5.59</td>\n",
              "      <td>27000</td>\n",
              "      <td>Petrol</td>\n",
              "      <td>Dealer</td>\n",
              "      <td>Manual</td>\n",
              "      <td>0</td>\n",
              "    </tr>\n",
              "    <tr>\n",
              "      <th>1</th>\n",
              "      <td>sx4</td>\n",
              "      <td>1970-01-01 00:00:00.000002013</td>\n",
              "      <td>4.75</td>\n",
              "      <td>9.54</td>\n",
              "      <td>43000</td>\n",
              "      <td>Diesel</td>\n",
              "      <td>Dealer</td>\n",
              "      <td>Manual</td>\n",
              "      <td>0</td>\n",
              "    </tr>\n",
              "    <tr>\n",
              "      <th>2</th>\n",
              "      <td>ciaz</td>\n",
              "      <td>1970-01-01 00:00:00.000002017</td>\n",
              "      <td>7.25</td>\n",
              "      <td>9.85</td>\n",
              "      <td>6900</td>\n",
              "      <td>Petrol</td>\n",
              "      <td>Dealer</td>\n",
              "      <td>Manual</td>\n",
              "      <td>0</td>\n",
              "    </tr>\n",
              "    <tr>\n",
              "      <th>3</th>\n",
              "      <td>wagon r</td>\n",
              "      <td>1970-01-01 00:00:00.000002011</td>\n",
              "      <td>2.85</td>\n",
              "      <td>4.15</td>\n",
              "      <td>5200</td>\n",
              "      <td>Petrol</td>\n",
              "      <td>Dealer</td>\n",
              "      <td>Manual</td>\n",
              "      <td>0</td>\n",
              "    </tr>\n",
              "    <tr>\n",
              "      <th>4</th>\n",
              "      <td>swift</td>\n",
              "      <td>1970-01-01 00:00:00.000002014</td>\n",
              "      <td>4.60</td>\n",
              "      <td>6.87</td>\n",
              "      <td>42450</td>\n",
              "      <td>Diesel</td>\n",
              "      <td>Dealer</td>\n",
              "      <td>Manual</td>\n",
              "      <td>0</td>\n",
              "    </tr>\n",
              "  </tbody>\n",
              "</table>\n",
              "</div>\n",
              "      <button class=\"colab-df-convert\" onclick=\"convertToInteractive('df-e4079298-2844-4b71-8735-ff9d2e91c6e0')\"\n",
              "              title=\"Convert this dataframe to an interactive table.\"\n",
              "              style=\"display:none;\">\n",
              "        \n",
              "  <svg xmlns=\"http://www.w3.org/2000/svg\" height=\"24px\"viewBox=\"0 0 24 24\"\n",
              "       width=\"24px\">\n",
              "    <path d=\"M0 0h24v24H0V0z\" fill=\"none\"/>\n",
              "    <path d=\"M18.56 5.44l.94 2.06.94-2.06 2.06-.94-2.06-.94-.94-2.06-.94 2.06-2.06.94zm-11 1L8.5 8.5l.94-2.06 2.06-.94-2.06-.94L8.5 2.5l-.94 2.06-2.06.94zm10 10l.94 2.06.94-2.06 2.06-.94-2.06-.94-.94-2.06-.94 2.06-2.06.94z\"/><path d=\"M17.41 7.96l-1.37-1.37c-.4-.4-.92-.59-1.43-.59-.52 0-1.04.2-1.43.59L10.3 9.45l-7.72 7.72c-.78.78-.78 2.05 0 2.83L4 21.41c.39.39.9.59 1.41.59.51 0 1.02-.2 1.41-.59l7.78-7.78 2.81-2.81c.8-.78.8-2.07 0-2.86zM5.41 20L4 18.59l7.72-7.72 1.47 1.35L5.41 20z\"/>\n",
              "  </svg>\n",
              "      </button>\n",
              "      \n",
              "  <style>\n",
              "    .colab-df-container {\n",
              "      display:flex;\n",
              "      flex-wrap:wrap;\n",
              "      gap: 12px;\n",
              "    }\n",
              "\n",
              "    .colab-df-convert {\n",
              "      background-color: #E8F0FE;\n",
              "      border: none;\n",
              "      border-radius: 50%;\n",
              "      cursor: pointer;\n",
              "      display: none;\n",
              "      fill: #1967D2;\n",
              "      height: 32px;\n",
              "      padding: 0 0 0 0;\n",
              "      width: 32px;\n",
              "    }\n",
              "\n",
              "    .colab-df-convert:hover {\n",
              "      background-color: #E2EBFA;\n",
              "      box-shadow: 0px 1px 2px rgba(60, 64, 67, 0.3), 0px 1px 3px 1px rgba(60, 64, 67, 0.15);\n",
              "      fill: #174EA6;\n",
              "    }\n",
              "\n",
              "    [theme=dark] .colab-df-convert {\n",
              "      background-color: #3B4455;\n",
              "      fill: #D2E3FC;\n",
              "    }\n",
              "\n",
              "    [theme=dark] .colab-df-convert:hover {\n",
              "      background-color: #434B5C;\n",
              "      box-shadow: 0px 1px 3px 1px rgba(0, 0, 0, 0.15);\n",
              "      filter: drop-shadow(0px 1px 2px rgba(0, 0, 0, 0.3));\n",
              "      fill: #FFFFFF;\n",
              "    }\n",
              "  </style>\n",
              "\n",
              "      <script>\n",
              "        const buttonEl =\n",
              "          document.querySelector('#df-e4079298-2844-4b71-8735-ff9d2e91c6e0 button.colab-df-convert');\n",
              "        buttonEl.style.display =\n",
              "          google.colab.kernel.accessAllowed ? 'block' : 'none';\n",
              "\n",
              "        async function convertToInteractive(key) {\n",
              "          const element = document.querySelector('#df-e4079298-2844-4b71-8735-ff9d2e91c6e0');\n",
              "          const dataTable =\n",
              "            await google.colab.kernel.invokeFunction('convertToInteractive',\n",
              "                                                     [key], {});\n",
              "          if (!dataTable) return;\n",
              "\n",
              "          const docLinkHtml = 'Like what you see? Visit the ' +\n",
              "            '<a target=\"_blank\" href=https://colab.research.google.com/notebooks/data_table.ipynb>data table notebook</a>'\n",
              "            + ' to learn more about interactive tables.';\n",
              "          element.innerHTML = '';\n",
              "          dataTable['output_type'] = 'display_data';\n",
              "          await google.colab.output.renderOutput(dataTable, element);\n",
              "          const docLink = document.createElement('div');\n",
              "          docLink.innerHTML = docLinkHtml;\n",
              "          element.appendChild(docLink);\n",
              "        }\n",
              "      </script>\n",
              "    </div>\n",
              "  </div>\n",
              "  "
            ]
          },
          "metadata": {},
          "execution_count": 577
        }
      ]
    },
    {
      "cell_type": "markdown",
      "source": [
        "### Convirtiendo a dummies las variables fuel_type, selling_type y transmission."
      ],
      "metadata": {
        "id": "UuLvBK1Y0hf2"
      }
    },
    {
      "cell_type": "code",
      "source": [
        "dummies_Fuel = pd.get_dummies(Data['Fuel_Type'], drop_first = True) \n",
        "Data = pd.concat([Data, dummies_Fuel], axis = 1) \n",
        "Data = Data.drop(columns=['Fuel_Type'])"
      ],
      "metadata": {
        "id": "B7k4o8gSfnPE"
      },
      "execution_count": 578,
      "outputs": []
    },
    {
      "cell_type": "code",
      "source": [
        "dummies_Selling = pd.get_dummies(Data['Selling_type'], drop_first = True) \n",
        "Data = pd.concat([Data, dummies_Selling], axis = 1) \n",
        "Data = Data.drop(columns=['Selling_type'])"
      ],
      "metadata": {
        "id": "xPWOsLgMgFC-"
      },
      "execution_count": 579,
      "outputs": []
    },
    {
      "cell_type": "code",
      "source": [
        "dummies_Trans = pd.get_dummies(Data['Transmission'], drop_first = True) \n",
        "Data = pd.concat([Data, dummies_Trans], axis = 1) \n",
        "Data = Data.drop(columns=['Transmission'])"
      ],
      "metadata": {
        "id": "onQ3gIcDgqpH"
      },
      "execution_count": 580,
      "outputs": []
    },
    {
      "cell_type": "markdown",
      "source": [
        "### Visualizando los outlier de las variables selling_Price, present_price y driven _kms"
      ],
      "metadata": {
        "id": "DhC60-e40rtZ"
      }
    },
    {
      "cell_type": "code",
      "source": [
        "Data.boxplot(column=['Selling_Price', 'Present_Price'], figsize=(8,6), grid=False)"
      ],
      "metadata": {
        "colab": {
          "base_uri": "https://localhost:8080/",
          "height": 531
        },
        "id": "L4xWa-4_hsax",
        "outputId": "beaf001a-1597-40f9-a392-5c75dd43aa90"
      },
      "execution_count": 582,
      "outputs": [
        {
          "output_type": "execute_result",
          "data": {
            "text/plain": [
              "<matplotlib.axes._subplots.AxesSubplot at 0x7fc055e456d0>"
            ]
          },
          "metadata": {},
          "execution_count": 582
        },
        {
          "output_type": "display_data",
          "data": {
            "text/plain": [
              "<Figure size 800x600 with 1 Axes>"
            ],
            "image/png": "[encoded data removed]"
          },
          "metadata": {
            "needs_background": "light"
          }
        }
      ]
    },
    {
      "cell_type": "code",
      "source": [
        "Data.boxplot(column=['Driven_kms'], figsize=(8,6), grid=False)"
      ],
      "metadata": {
        "colab": {
          "base_uri": "https://localhost:8080/",
          "height": 531
        },
        "id": "DT3LEmlUiZBf",
        "outputId": "1c61cf6b-ff66-440e-b0b9-ae9e72b4c9a9"
      },
      "execution_count": 583,
      "outputs": [
        {
          "output_type": "execute_result",
          "data": {
            "text/plain": [
              "<matplotlib.axes._subplots.AxesSubplot at 0x7fc055a6d1d0>"
            ]
          },
          "metadata": {},
          "execution_count": 583
        },
        {
          "output_type": "display_data",
          "data": {
            "text/plain": [
              "<Figure size 800x600 with 1 Axes>"
            ],
            "image/png": "[encoded data removed]"
          },
          "metadata": {
            "needs_background": "light"
          }
        }
      ]
    },
    {
      "cell_type": "markdown",
      "source": [
        "### Calculando los percentiles 10 y 90 de las variables con presencia de outlier, con la finalidad de corregir estos valores atipicos en funcion de sus percentiles."
      ],
      "metadata": {
        "id": "iwUT6Xkc0zE4"
      }
    },
    {
      "cell_type": "code",
      "source": [
        "P10_Selling=Data['Selling_Price'].quantile(0.10) \n",
        "P90_Selling=Data['Selling_Price'].quantile(0.90) \n",
        "P10_Selling, P90_Selling"
      ],
      "metadata": {
        "colab": {
          "base_uri": "https://localhost:8080/"
        },
        "id": "X2-Q5cIO7jC0",
        "outputId": "cb8f210b-bb8a-458b-b2ad-472d7217297f"
      },
      "execution_count": 584,
      "outputs": [
        {
          "output_type": "execute_result",
          "data": {
            "text/plain": [
              "(0.4, 9.299999999999997)"
            ]
          },
          "metadata": {},
          "execution_count": 584
        }
      ]
    },
    {
      "cell_type": "code",
      "source": [
        "Data[Data['Selling_Price']>9.2999]=9.2999"
      ],
      "metadata": {
        "id": "FbtLQ95TBKJ1"
      },
      "execution_count": 585,
      "outputs": []
    },
    {
      "cell_type": "code",
      "source": [
        "P10_Driven=Data['Driven_kms'].quantile(0.10) \n",
        "P90_Driven=Data['Driven_kms'].quantile(0.90) \n",
        "P10_Driven, P90_Driven"
      ],
      "metadata": {
        "colab": {
          "base_uri": "https://localhost:8080/"
        },
        "id": "8Uxd6Hi--KDr",
        "outputId": "454810da-12f3-4d83-ee51-9a4ca30c1755"
      },
      "execution_count": 586,
      "outputs": [
        {
          "output_type": "execute_result",
          "data": {
            "text/plain": [
              "(401.85998000000035, 61238.6)"
            ]
          },
          "metadata": {},
          "execution_count": 586
        }
      ]
    },
    {
      "cell_type": "code",
      "source": [
        "Data[Data['Driven_kms']>65199.99]=65199.99"
      ],
      "metadata": {
        "id": "yCy8URPhuZ7F"
      },
      "execution_count": 587,
      "outputs": []
    },
    {
      "cell_type": "code",
      "source": [
        "P10_Present=Data['Present_Price'].quantile(0.10) \n",
        "P90_Present=Data['Present_Price'].quantile(0.90) \n",
        "P10_Present, P90_Present"
      ],
      "metadata": {
        "colab": {
          "base_uri": "https://localhost:8080/"
        },
        "id": "7k9zxtV_7vhB",
        "outputId": "d26d5dba-805c-49bf-f708-b35a51d4b880"
      },
      "execution_count": 588,
      "outputs": [
        {
          "output_type": "execute_result",
          "data": {
            "text/plain": [
              "(0.728, 14.907999999999948)"
            ]
          },
          "metadata": {},
          "execution_count": 588
        }
      ]
    },
    {
      "cell_type": "code",
      "source": [
        "Data[Data['Present_Price']>14.9079]=14.9079"
      ],
      "metadata": {
        "id": "QUwjDFyY76pa"
      },
      "execution_count": 589,
      "outputs": []
    },
    {
      "cell_type": "code",
      "source": [
        "Data.info()"
      ],
      "metadata": {
        "colab": {
          "base_uri": "https://localhost:8080/"
        },
        "id": "ejlPF5W2XLm7",
        "outputId": "aaad3619-45c5-438c-892d-2b50e0698c22"
      },
      "execution_count": 591,
      "outputs": [
        {
          "output_type": "stream",
          "name": "stdout",
          "text": [
            "<class 'pandas.core.frame.DataFrame'>\n",
            "Int64Index: 299 entries, 0 to 300\n",
            "Data columns (total 10 columns):\n",
            " #   Column         Non-Null Count  Dtype  \n",
            "---  ------         --------------  -----  \n",
            " 0   Car_Name       299 non-null    object \n",
            " 1   Year           299 non-null    object \n",
            " 2   Selling_Price  299 non-null    float64\n",
            " 3   Present_Price  299 non-null    float64\n",
            " 4   Driven_kms     299 non-null    float64\n",
            " 5   Owner          299 non-null    float64\n",
            " 6   Diesel         299 non-null    float64\n",
            " 7   Petrol         299 non-null    float64\n",
            " 8   Individual     299 non-null    float64\n",
            " 9   Manual         299 non-null    float64\n",
            "dtypes: float64(8), object(2)\n",
            "memory usage: 25.7+ KB\n"
          ]
        }
      ]
    },
    {
      "cell_type": "code",
      "source": [
        "Data[['Individual', 'Diesel', 'Manual', 'Petrol', 'Owner']]=Data[['Individual', 'Diesel', 'Manual', 'Petrol', 'Owner']].astype('object')"
      ],
      "metadata": {
        "id": "pdMkW4qscgsT"
      },
      "execution_count": 592,
      "outputs": []
    },
    {
      "cell_type": "markdown",
      "source": [
        "### Calculando los VIF de las variables explicativas, de tal manera de determinar si hay presencia de multicolinealidad"
      ],
      "metadata": {
        "id": "VhKnycLq0_d5"
      }
    },
    {
      "cell_type": "code",
      "source": [
        "from statsmodels.stats.outliers_influence import variance_inflation_factor\n",
        "X = Data[['Driven_kms', 'Present_Price']]"
      ],
      "metadata": {
        "id": "Ta6BzW-9f006"
      },
      "execution_count": 593,
      "outputs": []
    },
    {
      "cell_type": "code",
      "source": [
        "vif_Data = pd.DataFrame()\n",
        "vif_Data[\"factores\"] = X.columns\n",
        "  \n",
        "# calculando VIF\n",
        "vif_Data[\"VIF\"] = [variance_inflation_factor(X.values, i)\n",
        "                          for i in range(len(X.columns))]\n",
        "  \n",
        "print(vif_Data)"
      ],
      "metadata": {
        "colab": {
          "base_uri": "https://localhost:8080/"
        },
        "id": "JXamjQAohWR8",
        "outputId": "e02fa404-5751-4431-cecc-176702af9dff"
      },
      "execution_count": 594,
      "outputs": [
        {
          "output_type": "stream",
          "name": "stdout",
          "text": [
            "        factores       VIF\n",
            "0     Driven_kms  1.451316\n",
            "1  Present_Price  1.451316\n"
          ]
        }
      ]
    },
    {
      "cell_type": "code",
      "source": [
        "import statsmodels.api as sm\n",
        "from sklearn.linear_model import LinearRegression\n"
      ],
      "metadata": {
        "id": "tF-IXA0Ei0cS"
      },
      "execution_count": 595,
      "outputs": []
    },
    {
      "cell_type": "markdown",
      "source": [
        "### Seleccionando variables para construir el modelo de regresion"
      ],
      "metadata": {
        "id": "XswAhLFj1LJj"
      }
    },
    {
      "cell_type": "code",
      "source": [
        "X = Data.drop(['Car_Name','Selling_Price', 'Year', 'Diesel', 'Owner', 'Individual'],axis=1)\n",
        "y=Data['Selling_Price']"
      ],
      "metadata": {
        "id": "geKUIT1Yi9Sa"
      },
      "execution_count": 597,
      "outputs": []
    },
    {
      "cell_type": "code",
      "source": [
        "from sklearn.model_selection import train_test_split"
      ],
      "metadata": {
        "id": "CVq100bGkaZY"
      },
      "execution_count": 598,
      "outputs": []
    },
    {
      "cell_type": "code",
      "source": [
        "X_train, X_test, y_train, y_test = train_test_split(X, y, test_size = 0.25, random_state = 100)"
      ],
      "metadata": {
        "id": "O2RiAB9zkgwO"
      },
      "execution_count": 599,
      "outputs": []
    },
    {
      "cell_type": "code",
      "source": [
        "print(X_train.shape,X_test.shape, y_train.shape, y_test.shape )"
      ],
      "metadata": {
        "colab": {
          "base_uri": "https://localhost:8080/"
        },
        "id": "8pZVpxNKl2hy",
        "outputId": "86cb87b1-5765-4126-832a-0a7347351d26"
      },
      "execution_count": 600,
      "outputs": [
        {
          "output_type": "stream",
          "name": "stdout",
          "text": [
            "(224, 4) (75, 4) (224,) (75,)\n"
          ]
        }
      ]
    },
    {
      "cell_type": "code",
      "source": [
        "lm = LinearRegression()"
      ],
      "metadata": {
        "id": "KNgloW5Ykr1b"
      },
      "execution_count": 601,
      "outputs": []
    },
    {
      "cell_type": "code",
      "source": [
        "lm.fit(X_train, y_train)"
      ],
      "metadata": {
        "colab": {
          "base_uri": "https://localhost:8080/"
        },
        "id": "fbgUeQC_k8jB",
        "outputId": "e3f85eec-9cb3-48a7-ef99-09d4439381e7"
      },
      "execution_count": 602,
      "outputs": [
        {
          "output_type": "execute_result",
          "data": {
            "text/plain": [
              "LinearRegression()"
            ]
          },
          "metadata": {},
          "execution_count": 602
        }
      ]
    },
    {
      "cell_type": "code",
      "source": [
        "pred_test = lm.predict(X_test)"
      ],
      "metadata": {
        "id": "R4RJ7Zrhninn"
      },
      "execution_count": 604,
      "outputs": []
    },
    {
      "cell_type": "code",
      "source": [
        "pred_train = lm.predict(X_train)"
      ],
      "metadata": {
        "id": "XGe0laPknnQi"
      },
      "execution_count": 605,
      "outputs": []
    },
    {
      "cell_type": "code",
      "source": [
        "from sklearn.metrics import r2_score, mean_absolute_error, mean_squared_error"
      ],
      "metadata": {
        "id": "9BSnGbQUnuut"
      },
      "execution_count": 606,
      "outputs": []
    },
    {
      "cell_type": "markdown",
      "source": [
        "### Calculando las metricas del modelo para determinar que tan bien se ajusta el modelo y que tanto explican las variables explicativas a la variable Selling_Price"
      ],
      "metadata": {
        "id": "-6uZ8XMw1TyP"
      }
    },
    {
      "cell_type": "code",
      "source": [
        "print('test data acc:',r2_score(y_test, pred_test))\n",
        "print('train data acc:',r2_score(y_train, pred_train))"
      ],
      "metadata": {
        "colab": {
          "base_uri": "https://localhost:8080/"
        },
        "id": "ic9mdhysoNsK",
        "outputId": "dfa08e8b-2c42-4bfd-ad2b-8c8c6085799a"
      },
      "execution_count": 607,
      "outputs": [
        {
          "output_type": "stream",
          "name": "stdout",
          "text": [
            "test data acc: 0.9579759398003145\n",
            "train data acc: 0.9718810099986143\n"
          ]
        }
      ]
    },
    {
      "cell_type": "code",
      "source": [
        "print('test data acc:',mean_absolute_error(y_test, pred_test))\n",
        "print('train data acc:',mean_absolute_error(y_train, pred_train))"
      ],
      "metadata": {
        "colab": {
          "base_uri": "https://localhost:8080/"
        },
        "id": "1FFd7OmcoWE0",
        "outputId": "fa9af283-e64b-498a-ff49-ce4728b90f63"
      },
      "execution_count": 608,
      "outputs": [
        {
          "output_type": "stream",
          "name": "stdout",
          "text": [
            "test data acc: 0.6296704542497955\n",
            "train data acc: 0.4827252230510543\n"
          ]
        }
      ]
    },
    {
      "cell_type": "code",
      "source": [
        "print('test data acc:',mean_squared_error(y_test, pred_test))\n",
        "print('train data acc:',mean_squared_error(y_train, pred_train))"
      ],
      "metadata": {
        "colab": {
          "base_uri": "https://localhost:8080/"
        },
        "id": "m9AQp5Xqofaw",
        "outputId": "00ff5cc2-6de8-4655-f1ba-76f10deaf786"
      },
      "execution_count": 609,
      "outputs": [
        {
          "output_type": "stream",
          "name": "stdout",
          "text": [
            "test data acc: 0.8534841826077635\n",
            "train data acc: 0.5472563311055175\n"
          ]
        }
      ]
    },
    {
      "cell_type": "code",
      "source": [
        "import matplotlib.pyplot as plt"
      ],
      "metadata": {
        "id": "76ZHe6cRih_5"
      },
      "execution_count": 610,
      "outputs": []
    },
    {
      "cell_type": "code",
      "source": [
        "plt.scatter(y_train, pred_train, c='red')\n",
        "plt.xlabel(\"Precios actuales\")\n",
        "plt.ylabel(\"Precios estimados\")\n",
        "plt.title(\" Precios actuales Vs Precios estimados\")   \n",
        "plt.show() "
      ],
      "metadata": {
        "colab": {
          "base_uri": "https://localhost:8080/",
          "height": 706
        },
        "id": "-hCxmvVFf96L",
        "outputId": "ea617472-83b5-4577-e644-b664ea0920d9"
      },
      "execution_count": 611,
      "outputs": [
        {
          "output_type": "display_data",
          "data": {
            "text/plain": [
              "<Figure size 1000x800 with 1 Axes>"
            ],
            "image/png": "[encoded data removed]"
          },
          "metadata": {
            "needs_background": "light"
          }
        }
      ]
    },
    {
      "cell_type": "code",
      "source": [
        "lm.fit(X_train, y_train)\n",
        "r_sq=lm.score(X_train, y_train)\n",
        "print(\"coeficiente de determinacion:{}\".format(r_sq))\n",
        "print(\"interceptor:{}\".format(lm.intercept_)) \n",
        "print(\"inclinacion:{}\".format(lm.coef_))"
      ],
      "metadata": {
        "colab": {
          "base_uri": "https://localhost:8080/"
        },
        "id": "BWxhhbIor0Ro",
        "outputId": "3bca08d4-d5c0-4a09-8d45-3b2d4c890772"
      },
      "execution_count": 619,
      "outputs": [
        {
          "output_type": "stream",
          "name": "stdout",
          "text": [
            "coeficiente de determinacion:0.9718810099986143\n",
            "interceptor:0.4111530101585634\n",
            "inclinacion:[ 6.83431113e-01 -2.80007153e-05 -6.92799707e-02  3.52298987e-01]\n"
          ]
        }
      ]
    },
    {
      "cell_type": "code",
      "source": [
        "prediccion=lm.predict(X_test)\n",
        "prediccion"
      ],
      "metadata": {
        "colab": {
          "base_uri": "https://localhost:8080/"
        },
        "id": "6agq86e6xbsR",
        "outputId": "40a83d80-bab3-4507-eac0-f5a58132ab7a"
      },
      "execution_count": 620,
      "outputs": [
        {
          "output_type": "execute_result",
          "data": {
            "text/plain": [
              "array([ 5.46899255,  0.68090261,  9.39878216,  0.05941161,  9.39878216,\n",
              "        0.85627255,  0.98074923,  4.19413773,  2.14651706,  3.94421596,\n",
              "        0.88245435,  5.71175796,  3.26308949, 14.81847745,  0.58741227,\n",
              "        4.98754666,  8.50637271,  6.11039873,  4.82009856, 14.81847745,\n",
              "        3.77990776,  6.10759866,  1.09068183,  4.45200858,  9.39878216,\n",
              "        0.11869829,  0.08124148,  9.39878216,  1.2228036 ,  1.10741592,\n",
              "        6.04640754,  4.49816478,  6.93364294, 14.81847745,  6.69838575,\n",
              "        0.67075094,  3.53739985,  2.13840169,  1.71036465,  2.84759008,\n",
              "       14.81847745,  6.13378158, 14.81847745,  1.30703065,  0.67095055,\n",
              "        4.23557491, 14.81847745,  3.0947425 ,  1.04491191,  5.41223632,\n",
              "        4.25326604,  8.86527845,  6.07935405,  2.11545055,  5.94132524,\n",
              "        1.70628824,  3.8001092 ,  2.69370704,  0.20203696,  3.95666299,\n",
              "        1.39569115,  4.53611756, 14.81847745, 14.81847745,  0.96475846,\n",
              "        5.8156694 ,  1.90868899,  6.64353855,  4.87949179,  2.10642644,\n",
              "        5.50852415,  6.30355938, 14.81847745,  3.98312333,  0.82241868])"
            ]
          },
          "metadata": {},
          "execution_count": 620
        }
      ]
    },
    {
      "cell_type": "markdown",
      "source": [
        "### Un coeficiente de determinacion del 97% es casi perfecto. Esto indica que Present_Price, Driven_kms, Petrol y Manual que son las variables explicativas, explican en 97% el precio de venta de los carros usados, lo que indica un excelente ajuste del modelo."
      ],
      "metadata": {
        "id": "9psOQzla1i-n"
      }
    }
  ]
}